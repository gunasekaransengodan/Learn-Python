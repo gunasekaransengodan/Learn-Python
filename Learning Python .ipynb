{
 "cells": [
  {
   "cell_type": "code",
   "execution_count": 2,
   "metadata": {},
   "outputs": [],
   "source": [
    "#Quick Sort Algorithm Function\n",
    "def quicksort(arr):\n",
    "    if len(arr) <= 1:\n",
    "        return arr\n",
    "    pivot = arr[len(arr) // 2]\n",
    "    left = [x for x in arr if x < pivot]\n",
    "    middle = [x for x in arr if x == pivot]\n",
    "    right = [x for x in arr if x > pivot]\n",
    "    return quicksort(left) + middle + quicksort(right)"
   ]
  },
  {
   "cell_type": "code",
   "execution_count": 3,
   "metadata": {},
   "outputs": [
    {
     "name": "stdout",
     "output_type": "stream",
     "text": [
      "[1, 1, 2, 3, 6, 8, 10]\n"
     ]
    }
   ],
   "source": [
    "#Call Quick Sort Function\n",
    "print(quicksort([3,6,8,10,1,2,1]))"
   ]
  },
  {
   "cell_type": "code",
   "execution_count": 6,
   "metadata": {},
   "outputs": [
    {
     "name": "stdout",
     "output_type": "stream",
     "text": [
      "<class 'int'>\n",
      "8\n",
      "9\n",
      "7\n",
      "16\n",
      "64\n",
      "9\n",
      "18\n",
      "<class 'float'>\n",
      "10.5 11.5 21.0 110.25\n"
     ]
    }
   ],
   "source": [
    "#Data Type Behaviour Check\n",
    "#NUMBERS \n",
    "x = 8\n",
    "print(type(x)) # Prints \"<class 'int'>\"\n",
    "print(x)       # Prints \"8\"\n",
    "print(x + 1)   # Addition; prints \"9\"\n",
    "print(x - 1)   # Subtraction; prints \"7\"\n",
    "print(x * 2)   # Multiplication; prints \"16\"\n",
    "print(x ** 2)  # Exponentiation; prints \"64\"\n",
    "x += 1\n",
    "print(x)  # Prints \"9\"\n",
    "x *= 2\n",
    "print(x)  # Prints \"18\"\n",
    "y = 10.5\n",
    "print(type(y)) # Prints \"<class 'float'>\"\n",
    "print(y, y + 1, y * 2, y ** 2) # Prints \"2.5 3.5 5.0 6.25\""
   ]
  },
  {
   "cell_type": "code",
   "execution_count": 7,
   "metadata": {},
   "outputs": [
    {
     "name": "stdout",
     "output_type": "stream",
     "text": [
      "<class 'bool'>\n",
      "False\n",
      "True\n",
      "False\n",
      "True\n"
     ]
    }
   ],
   "source": [
    "#BOOLEAN\n",
    "\n",
    "t = True\n",
    "f = False\n",
    "\n",
    "print(type(t)) # Prints \"<class 'bool'>\"\n",
    "print(t and f) # Logical AND; prints \"False\"\n",
    "print(t or f)  # Logical OR; prints \"True\"\n",
    "print(not t)   # Logical NOT; prints \"False\"\n",
    "print(t != f)  # Logical XOR; prints \"True\""
   ]
  },
  {
   "cell_type": "code",
   "execution_count": 9,
   "metadata": {},
   "outputs": [
    {
     "name": "stdout",
     "output_type": "stream",
     "text": [
      "Guna\n",
      "4\n",
      "Guna Sekaran\n",
      "Guna Sekaran 11\n"
     ]
    }
   ],
   "source": [
    "#STRINGS\n",
    "\n",
    "hello = 'Guna'       # String literals can use single quotes\n",
    "world = \"Sekaran\"    # or double quotes; it does not matter.\n",
    "\n",
    "print(hello)       # Prints \"Guna\"\n",
    "print(len(hello))  # String length; prints \"4\"\n",
    "\n",
    "hw = hello + ' ' + world  # String concatenation\n",
    "print(hw)  # prints \"Guna Sekaran\"\n",
    "\n",
    "hw12 = '%s %s %d' % (hello, world, 11)  # sprintf style string formatting\n",
    "print(hw12)  # prints \"Guna Sekaran 11\""
   ]
  },
  {
   "cell_type": "code",
   "execution_count": 14,
   "metadata": {},
   "outputs": [
    {
     "name": "stdout",
     "output_type": "stream",
     "text": [
      "Namakkal\n",
      "NAMAKKAL\n",
      "namakkal\n",
      "namakkal\n",
      "(r)amakkal\n",
      "RAMAR KAL\n"
     ]
    }
   ],
   "source": [
    "#STRING OBJECTS & METHODS\n",
    "s = \"namakkal\"\n",
    "print(s.capitalize())  # Capitalize a string; prints \"Namakkal\"\n",
    "print(s.upper())       # Convert a string to uppercase; prints \"NAMAKKAL\"\n",
    "print(s.rjust(7))      # Right-justify a string, padding with spaces; prints \"  namakkal\"\n",
    "print(s.center(7))     # Center a string, padding with spaces; prints \" namakkal \"\n",
    "print(s.replace('n', '(r)'))  # Replace all instances of one substring with another;\n",
    "                                # prints \"(r)amakkal\"\n",
    "print('  RAMAR KAL '.strip())  # Strip leading and trailing whitespace; prints \"world\""
   ]
  },
  {
   "cell_type": "code",
   "execution_count": 18,
   "metadata": {},
   "outputs": [
    {
     "name": "stdout",
     "output_type": "stream",
     "text": [
      "[8, 16, 32] 32\n",
      "32\n",
      "[8, 16, 'Machine']\n",
      "[8, 16, 'Machine', 'Training']\n",
      "Training [8, 16, 'Machine']\n"
     ]
    }
   ],
   "source": [
    "#Container\n",
    "#LISTS\n",
    "xs = [8, 16, 32]    # Create a list\n",
    "print(xs, xs[2])  # Prints \"[3, 1, 2] 2\"\n",
    "\n",
    "print(xs[-1])     # Negative indices count from the end of the list; prints \"2\"\n",
    "\n",
    "xs[2] = 'Machine'     # Lists can contain elements of different types\n",
    "print(xs)             # Prints \"[3, 1, 'Machine']\"\n",
    "\n",
    "xs.append('Training')  # Add a new element to the end of the list\n",
    "print(xs)             # Prints \"[3, 1, 'Machine', 'Traning']\"\n",
    "\n",
    "x = xs.pop()      # Remove and return the last element of the list\n",
    "print(x, xs)      # Prints \"Traning [3, 1, 'Machine']\""
   ]
  },
  {
   "cell_type": "code",
   "execution_count": 19,
   "metadata": {},
   "outputs": [
    {
     "name": "stdout",
     "output_type": "stream",
     "text": [
      "[0, 1, 2, 3, 4]\n",
      "[2, 3]\n",
      "[2, 3, 4]\n",
      "[0, 1]\n",
      "[0, 1, 2, 3, 4]\n",
      "[0, 1, 2, 3]\n",
      "[0, 1, 8, 9, 4]\n"
     ]
    }
   ],
   "source": [
    "#SLICING\n",
    "nums = list(range(5))     # range is a built-in function that creates a list of integers\n",
    "print(nums)               # Prints \"[0, 1, 2, 3, 4]\"\n",
    "print(nums[2:4])          # Get a slice from index 2 to 4 (exclusive); prints \"[2, 3]\"\n",
    "print(nums[2:])           # Get a slice from index 2 to the end; prints \"[2, 3, 4]\"\n",
    "print(nums[:2])           # Get a slice from the start to index 2 (exclusive); prints \"[0, 1]\"\n",
    "print(nums[:])            # Get a slice of the whole list; prints \"[0, 1, 2, 3, 4]\"\n",
    "print(nums[:-1])          # Slice indices can be negative; prints \"[0, 1, 2, 3]\"\n",
    "nums[2:4] = [8, 9]        # Assign a new sublist to a slice\n",
    "\n",
    "print(nums)               # Prints \"[0, 1, 8, 9, 4]\""
   ]
  },
  {
   "cell_type": "code",
   "execution_count": 20,
   "metadata": {},
   "outputs": [
    {
     "name": "stdout",
     "output_type": "stream",
     "text": [
      "R\n",
      "Python\n",
      "Julia\n"
     ]
    }
   ],
   "source": [
    "#LOOPS\n",
    "languages2Use = ['R', 'Python', 'Julia']\n",
    "for language2Use in languages2Use:\n",
    "    print(language2Use)\n",
    "# Prints \"R\", \"Python\", \"Julia\", each on its own line."
   ]
  },
  {
   "cell_type": "code",
   "execution_count": 22,
   "metadata": {},
   "outputs": [
    {
     "name": "stdout",
     "output_type": "stream",
     "text": [
      "#1: R\n",
      "#2: Python\n",
      "#3: Julia\n"
     ]
    }
   ],
   "source": [
    "#LOOPS with Index\n",
    "languages2Use = ['R', 'Python', 'Julia']\n",
    "for idx, language2Use in enumerate(languages2Use):\n",
    "    print('#%d: %s' % (idx + 1, language2Use))\n",
    "# Prints \"#1: R\", \"#2: Python\", \"#3: Julia\", each on its own line"
   ]
  },
  {
   "cell_type": "code",
   "execution_count": 24,
   "metadata": {},
   "outputs": [
    {
     "name": "stdout",
     "output_type": "stream",
     "text": [
      "[16, 64, 256, 1024, 4096]\n"
     ]
    }
   ],
   "source": [
    "#List comprehensions\n",
    "#Squres\n",
    "nums = [4, 8, 16, 32, 64]\n",
    "squares = []\n",
    "for x in nums:\n",
    "    squares.append(x ** 2)\n",
    "print(squares)   # Prints [16, 64, 256, 1024, 4096]"
   ]
  },
  {
   "cell_type": "code",
   "execution_count": 25,
   "metadata": {},
   "outputs": [
    {
     "name": "stdout",
     "output_type": "stream",
     "text": [
      "[16, 64, 256, 1024, 4096]\n"
     ]
    }
   ],
   "source": [
    "#Refactored Squre\n",
    "nums = [4, 8, 16, 32, 64]\n",
    "squares = [x ** 2 for x in nums]\n",
    "print(squares)   # Prints [16, 64, 256, 1024, 4096]"
   ]
  },
  {
   "cell_type": "code",
   "execution_count": 28,
   "metadata": {},
   "outputs": [
    {
     "name": "stdout",
     "output_type": "stream",
     "text": [
      "[16, 64, 256, 1024, 4096]\n"
     ]
    }
   ],
   "source": [
    "#Add Some Conditon based Output\n",
    "nums = [4, 8, 16, 32, 64, 101, 111]\n",
    "even_squares = [x ** 2 for x in nums if x % 2 == 0]\n",
    "print(even_squares)  # Prints \"[0, 4, 16]\""
   ]
  },
  {
   "cell_type": "code",
   "execution_count": 31,
   "metadata": {},
   "outputs": [
    {
     "name": "stdout",
     "output_type": "stream",
     "text": [
      "Basic\n",
      "True\n",
      "Traditional\n",
      "N/A\n",
      "Traditional\n",
      "N/A\n"
     ]
    }
   ],
   "source": [
    "#Dictionary - Use\n",
    "d = {'R': 'Basic', 'Python': 'Scientific'}  # Create a new dictionary with some data\n",
    "print(d['R'])                               # Get an entry from a dictionary; prints \"Basic\"\n",
    "\n",
    "print('R' in d)               # Check if a dictionary has a given key; prints \"True\"\n",
    "d['Java'] = 'Traditional'     # Set an entry in a dictionary\n",
    "\n",
    "print(d['Java'])      # Prints \"Traditional\"\n",
    "# print(d['Java'])    # KeyError: 'Java' not a key of d\n",
    "\n",
    "print(d.get('Machine', 'N/A'))  # Get an element with a default; prints \"N/A\"\n",
    "print(d.get('Java', 'N/A'))    # Get an element with a default; prints \"Traditional\"\n",
    "\n",
    "del d['Java']               # Remove an element from a dictionary\n",
    "print(d.get('Java', 'N/A')) # \"fish\" is no longer a key; prints \"N/A\""
   ]
  },
  {
   "cell_type": "code",
   "execution_count": 37,
   "metadata": {},
   "outputs": [
    {
     "name": "stdout",
     "output_type": "stream",
     "text": [
      "R has Best 1 Packages\n",
      "Python has Best 2 Packages\n",
      "Java has Best 3 Packages\n"
     ]
    }
   ],
   "source": [
    "#Dictonary Loops on KEYS\n",
    "d = {'R': 1, 'Python': 2, 'Java': 3}\n",
    "for Best in d:\n",
    "    language = d[Best]\n",
    "    print('%s has Best %d Packages' % (Best, language))"
   ]
  },
  {
   "cell_type": "code",
   "execution_count": 11,
   "metadata": {},
   "outputs": [
    {
     "name": "stdout",
     "output_type": "stream",
     "text": [
      "R has 1 Skill for industry\n",
      "Python has 2 Skill for industry\n",
      "Java has 3 Skill for industry\n"
     ]
    }
   ],
   "source": [
    "d = {'R': 1, 'Python': 2, 'Java': 3}\n",
    "for Best, Skill in d.items():\n",
    "    print('%s has %d Skill for industry' % (Best, Skill))\n",
    "#Prints\n",
    "#R has 1 Skill for industry , Python has 2 Skill for industry,  Java has 3 Skill for industry in one line"
   ]
  },
  {
   "cell_type": "code",
   "execution_count": 12,
   "metadata": {},
   "outputs": [
    {
     "name": "stdout",
     "output_type": "stream",
     "text": [
      "{0: 0, 2: 4, 4: 16}\n"
     ]
    }
   ],
   "source": [
    "#Dictonary Comprehensions\n",
    "nums = [0, 1, 2, 3, 4]\n",
    "even_num_to_square = {x: x ** 2 for x in nums if x % 2 == 0}\n",
    "print(even_num_to_square)  \n",
    "# Prints \"{0: 0, 2: 4, 4: 16}\""
   ]
  },
  {
   "cell_type": "code",
   "execution_count": 15,
   "metadata": {},
   "outputs": [
    {
     "name": "stdout",
     "output_type": "stream",
     "text": [
      "True\n",
      "True\n",
      "True\n",
      "3\n",
      "3\n",
      "2\n"
     ]
    },
    {
     "data": {
      "text/plain": [
       "{'Python', 'R'}"
      ]
     },
     "execution_count": 15,
     "metadata": {},
     "output_type": "execute_result"
    }
   ],
   "source": [
    "#Sets\n",
    "Skills = {'R', 'Python'}\n",
    "print('R' in Skills)        # Check if an element is in a set; prints \"True\"\n",
    "print('Python' in Skills)   # prints \"False\"\n",
    "Skills.add('Julia')         # Add an element to a set\n",
    "print('Python' in Skills)   # Prints \"True\"\n",
    "print(len(Skills))          # Number of elements in a set; prints \"3\"\n",
    "Skills.add('Julia')         # Adding an element that is already in the set does nothing\n",
    "print(len(Skills))          # Prints \"3\"\n",
    "Skills.remove('Julia')      # Remove an element from a set\n",
    "print(len(Skills))          # Prints \"2\"\n",
    "Skills"
   ]
  },
  {
   "cell_type": "code",
   "execution_count": null,
   "metadata": {},
   "outputs": [],
   "source": []
  }
 ],
 "metadata": {
  "kernelspec": {
   "display_name": "Python 3",
   "language": "python",
   "name": "python3"
  },
  "language_info": {
   "codemirror_mode": {
    "name": "ipython",
    "version": 3
   },
   "file_extension": ".py",
   "mimetype": "text/x-python",
   "name": "python",
   "nbconvert_exporter": "python",
   "pygments_lexer": "ipython3",
   "version": "3.7.0"
  }
 },
 "nbformat": 4,
 "nbformat_minor": 2
}
